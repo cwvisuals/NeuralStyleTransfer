{
  "nbformat": 4,
  "nbformat_minor": 0,
  "metadata": {
    "colab": {
      "name": "NST.ipynb",
      "provenance": [],
      "collapsed_sections": [],
      "authorship_tag": "ABX9TyPw/7KE5B8jeQxFjIJrumzo",
      "include_colab_link": true
    },
    "kernelspec": {
      "name": "python3",
      "display_name": "Python 3"
    },
    "accelerator": "GPU"
  },
  "cells": [
    {
      "cell_type": "markdown",
      "metadata": {
        "id": "view-in-github",
        "colab_type": "text"
      },
      "source": [
        "<a href=\"https://colab.research.google.com/github/cwvisuals/NeuralStyleTransfer/blob/master/NST.ipynb\" target=\"_parent\"><img src=\"https://colab.research.google.com/assets/colab-badge.svg\" alt=\"Open In Colab\"/></a>"
      ]
    },
    {
      "cell_type": "code",
      "metadata": {
        "id": "Hdre_Me4Am0T",
        "colab_type": "code",
        "colab": {
          "base_uri": "https://localhost:8080/",
          "height": 357
        },
        "outputId": "ffd564b3-b531-4e2e-bb69-6710f2af5a97"
      },
      "source": [
        "!nvidia-smi"
      ],
      "execution_count": null,
      "outputs": [
        {
          "output_type": "stream",
          "text": [
            "Wed Aug 19 02:06:59 2020       \n",
            "+-----------------------------------------------------------------------------+\n",
            "| NVIDIA-SMI 450.57       Driver Version: 418.67       CUDA Version: 10.1     |\n",
            "|-------------------------------+----------------------+----------------------+\n",
            "| GPU  Name        Persistence-M| Bus-Id        Disp.A | Volatile Uncorr. ECC |\n",
            "| Fan  Temp  Perf  Pwr:Usage/Cap|         Memory-Usage | GPU-Util  Compute M. |\n",
            "|                               |                      |               MIG M. |\n",
            "|===============================+======================+======================|\n",
            "|   0  Tesla T4            Off  | 00000000:00:04.0 Off |                    0 |\n",
            "| N/A   50C    P8    10W /  70W |      0MiB / 15079MiB |      0%      Default |\n",
            "|                               |                      |                 ERR! |\n",
            "+-------------------------------+----------------------+----------------------+\n",
            "                                                                               \n",
            "+-----------------------------------------------------------------------------+\n",
            "| Processes:                                                                  |\n",
            "|  GPU   GI   CI        PID   Type   Process name                  GPU Memory |\n",
            "|        ID   ID                                                   Usage      |\n",
            "|=============================================================================|\n",
            "|  No running processes found                                                 |\n",
            "+-----------------------------------------------------------------------------+\n"
          ],
          "name": "stdout"
        }
      ]
    },
    {
      "cell_type": "code",
      "metadata": {
        "id": "7n31y-GQAsPG",
        "colab_type": "code",
        "colab": {
          "base_uri": "https://localhost:8080/",
          "height": 122
        },
        "outputId": "e741d0b2-3a5a-4b72-ed64-006940189791"
      },
      "source": [
        "from google.colab import drive\n",
        "drive.mount('/content/drive')"
      ],
      "execution_count": null,
      "outputs": [
        {
          "output_type": "stream",
          "text": [
            "Go to this URL in a browser: https://accounts.google.com/o/oauth2/auth?client_id=947318989803-6bn6qk8qdgf4n4g3pfee6491hc0brc4i.apps.googleusercontent.com&redirect_uri=urn%3aietf%3awg%3aoauth%3a2.0%3aoob&scope=email%20https%3a%2f%2fwww.googleapis.com%2fauth%2fdocs.test%20https%3a%2f%2fwww.googleapis.com%2fauth%2fdrive%20https%3a%2f%2fwww.googleapis.com%2fauth%2fdrive.photos.readonly%20https%3a%2f%2fwww.googleapis.com%2fauth%2fpeopleapi.readonly&response_type=code\n",
            "\n",
            "Enter your authorization code:\n",
            "··········\n",
            "Mounted at /content/drive\n"
          ],
          "name": "stdout"
        }
      ]
    },
    {
      "cell_type": "code",
      "metadata": {
        "id": "z6yV4chM0mY9",
        "colab_type": "code",
        "colab": {
          "base_uri": "https://localhost:8080/",
          "height": 51
        },
        "outputId": "10122b74-a11d-4f0a-b1a0-733953dc320a"
      },
      "source": [
        "#install TF 1.15 to avoid some annoying warning messages\n",
        "# Restart runtime using 'Runtime' -> 'Restart runtime...'\n",
        "%tensorflow_version 1.x\n",
        "import tensorflow as tf\n",
        "print(tf.__version__)"
      ],
      "execution_count": null,
      "outputs": [
        {
          "output_type": "stream",
          "text": [
            "TensorFlow 1.x selected.\n",
            "1.15.2\n"
          ],
          "name": "stdout"
        }
      ]
    },
    {
      "cell_type": "code",
      "metadata": {
        "id": "FXoz_ZZh0utJ",
        "colab_type": "code",
        "colab": {
          "base_uri": "https://localhost:8080/",
          "height": 459
        },
        "outputId": "fbdd4db8-a902-40d9-fcad-4308176e856b"
      },
      "source": [
        "#import some image display tools\n",
        "from IPython.display import Image, display\n",
        "#install the library in colab\n",
        "!git clone https://github.com/dvschultz/neural-style-tf\n",
        "#change into that directory\n",
        "%cd neural-style-tf/\n",
        "#install the library dependencies (it's likely Colab already has them installed, but let's be sure)\n",
        "!pip install -r requirements.txt\n",
        "#install the VGG19 pre-trained model\n",
        "!wget http://www.vlfeat.org/matconvnet/models/imagenet-vgg-verydeep-19.mat"
      ],
      "execution_count": null,
      "outputs": [
        {
          "output_type": "stream",
          "text": [
            "Cloning into 'neural-style-tf'...\n",
            "remote: Enumerating objects: 6, done.\u001b[K\n",
            "remote: Counting objects: 100% (6/6), done.\u001b[K\n",
            "remote: Compressing objects: 100% (4/4), done.\u001b[K\n",
            "remote: Total 921 (delta 2), reused 6 (delta 2), pack-reused 915\u001b[K\n",
            "Receiving objects: 100% (921/921), 85.25 MiB | 10.18 MiB/s, done.\n",
            "Resolving deltas: 100% (465/465), done.\n",
            "/content/neural-style-tf\n",
            "Requirement already satisfied: opencv-python>=4.1.1.26 in /usr/local/lib/python3.6/dist-packages (from -r requirements.txt (line 1)) (4.1.2.30)\n",
            "Requirement already satisfied: scipy>=1.3.1 in /usr/local/lib/python3.6/dist-packages (from -r requirements.txt (line 2)) (1.4.1)\n",
            "Requirement already satisfied: numpy>=1.11.3 in /usr/local/lib/python3.6/dist-packages (from opencv-python>=4.1.1.26->-r requirements.txt (line 1)) (1.18.5)\n",
            "--2020-08-19 02:09:01--  http://www.vlfeat.org/matconvnet/models/imagenet-vgg-verydeep-19.mat\n",
            "Resolving www.vlfeat.org (www.vlfeat.org)... 64.90.48.57\n",
            "Connecting to www.vlfeat.org (www.vlfeat.org)|64.90.48.57|:80... connected.\n",
            "HTTP request sent, awaiting response... 301 Moved Permanently\n",
            "Location: https://www.vlfeat.org/matconvnet/models/imagenet-vgg-verydeep-19.mat [following]\n",
            "--2020-08-19 02:09:02--  https://www.vlfeat.org/matconvnet/models/imagenet-vgg-verydeep-19.mat\n",
            "Connecting to www.vlfeat.org (www.vlfeat.org)|64.90.48.57|:443... connected.\n",
            "HTTP request sent, awaiting response... 200 OK\n",
            "Length: 534904783 (510M)\n",
            "Saving to: ‘imagenet-vgg-verydeep-19.mat’\n",
            "\n",
            "imagenet-vgg-veryde 100%[===================>] 510.12M  18.7MB/s    in 28s     \n",
            "\n",
            "2020-08-19 02:09:31 (18.1 MB/s) - ‘imagenet-vgg-verydeep-19.mat’ saved [534904783/534904783]\n",
            "\n"
          ],
          "name": "stdout"
        }
      ]
    },
    {
      "cell_type": "code",
      "metadata": {
        "id": "z6Ppvcz91uj8",
        "colab_type": "code",
        "colab": {
          "base_uri": "https://localhost:8080/",
          "height": 34
        },
        "outputId": "e2bf8166-7d93-46ac-bb31-0bf0c41f8bbe"
      },
      "source": [
        "#let's make sure we're in the right folder\n",
        "!pwd\n",
        "# we should see \"/content/neural-style-tf\""
      ],
      "execution_count": null,
      "outputs": [
        {
          "output_type": "stream",
          "text": [
            "/content/neural-style-tf\n"
          ],
          "name": "stdout"
        }
      ]
    },
    {
      "cell_type": "markdown",
      "metadata": {
        "id": "TJG__HZ91MxL",
        "colab_type": "text"
      },
      "source": [
        "Neural Style Transfer with parameters"
      ]
    },
    {
      "cell_type": "code",
      "metadata": {
        "id": "HPZkzxRR1SpL",
        "colab_type": "code",
        "colab": {}
      },
      "source": [
        "!python neural_style.py --content_img chris_512.jpg --style_imgs KJM_512.jpg --style_imgs shipwreck.jpg --max_size 512 --max_iterations 333 --style_imgs_weights 0.65 0.35"
      ],
      "execution_count": null,
      "outputs": []
    },
    {
      "cell_type": "code",
      "metadata": {
        "id": "cUUA3zVEgEd2",
        "colab_type": "code",
        "colab": {}
      },
      "source": [
        "!python neural_style.py --content_img chris_512.jpg --style_imgs KJM_512.jpg --max_size 512 --max_iterations 418"
      ],
      "execution_count": null,
      "outputs": []
    },
    {
      "cell_type": "markdown",
      "metadata": {
        "id": "_Tw6K__g1WOc",
        "colab_type": "text"
      },
      "source": [
        "Testure Synthesis"
      ]
    },
    {
      "cell_type": "code",
      "metadata": {
        "id": "roHV1NDk1bJz",
        "colab_type": "code",
        "colab": {}
      },
      "source": [
        "!python neural_style.py --content_img aic2.jpg --style_imgs art2_512.jpg --style_imgs woman-with-hat-matisse.jpg --max_size 512 --max_iterations 418 --style_imgs_weights 0.25 0.75 --content_weight 0e0 --init_img_type random"
      ],
      "execution_count": null,
      "outputs": []
    }
  ]
}